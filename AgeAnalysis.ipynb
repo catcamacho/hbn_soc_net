{
 "cells": [
  {
   "cell_type": "code",
   "execution_count": 3,
   "id": "a7ef38a4-e609-4da8-93f8-1912aa21a696",
   "metadata": {},
   "outputs": [],
   "source": [
    "import pandas as pd\n",
    "import numpy as np\n",
    "import nibabel as nib\n",
    "import matplotlib.pyplot as plt\n",
    "from sklearn.svm import SVR, SVC\n",
    "from sklearn.preprocessing import MinMaxScaler, StandardScaler\n",
    "from SVR_functions import regress_covariates, cv_fit, predict_out, make_consistency_plot, boot_predict, permuted_p, permuted_importance, make_confusion_matrix\n",
    "import seaborn as sns\n",
    "import scipy.stats as scp\n",
    "import timecorr as tc\n",
    "import os\n",
    "\n",
    "project_folder = '/Users/catcamacho/Library/CloudStorage/Box-Box/CCP/HBN_study/social_proc_networks'\n",
    "proc_folder = os.path.join(project_folder,'dynamic_connectivity','DATA','processed_data')\n",
    "null_folder = os.path.join(project_folder,'dynamic_connectivity','DATA','null_data')\n",
    "sample_file = os.path.join(project_folder,'dynamic_connectivity','DATA', 'helper_files','sample_gord.32k_fs_LR.pscalar.nii')\n",
    "beta_dir = os.path.join(project_folder, 'dynamic_connectivity','DATA', 'beta_maps')\n",
    "\n",
    "# get parcel and network labels\n",
    "parcel_labels = nib.load(sample_file).header.get_axis(1).name[:333]\n",
    "network_labels = []\n",
    "for s in parcel_labels:\n",
    "    b = s.split('_')\n",
    "    if len(b)<2:\n",
    "        network_labels.append(b[0])\n",
    "    else:\n",
    "        network_labels.append(b[1])\n",
    "network_labels = np.array(network_labels)\n",
    "network_names, network_sizes = np.unique(network_labels, return_counts=True)\n",
    "\n",
    "# define measures of interest\n",
    "networks_of_interest = ['Auditory', 'CinguloOperc', 'Default', 'DorsalAttn', 'FrontoParietal',\n",
    "                        'SMhand', 'SMmouth', 'Salience', 'VentralAttn', 'Visual']\n",
    "features_of_interest = ['Anger','Happy','Fear','Sad','Excited','Brightness',\n",
    "                        'SaliencyFract','Sharpness','Vibrance','Loudness','Motion']"
   ]
  },
  {
   "cell_type": "markdown",
   "id": "2e0f7ded-9ec5-45f3-a40e-7e47a060004f",
   "metadata": {
    "tags": []
   },
   "source": [
    "## Combine data into feature sets"
   ]
  },
  {
   "cell_type": "code",
   "execution_count": 4,
   "id": "9ebe0ef9-1491-4c03-b83c-dfcffe27db69",
   "metadata": {},
   "outputs": [],
   "source": [
    "for movie in ['DM','TP']:\n",
    "    subinfo = pd.read_csv(os.path.join(project_folder, 'dynamic_connectivity', \n",
    "                                       'DATA', 'raw_data', 'sampleinfo_movie{0}.csv'.format(movie)), index_col=0)\n",
    "    for feat in features_of_interest:\n",
    "        data = []\n",
    "        for sub in subinfo.index.tolist():\n",
    "            data.append(np.expand_dims(np.load(os.path.join(beta_dir, '{0}_task-movie{1}_nFC_{2}_beta_withfeats.npy'.format(sub, movie, feat))), axis=1))\n",
    "\n",
    "        combined_data = np.concatenate(data, axis=1)\n",
    "        np.save(os.path.join(beta_dir, 'movie{0}_{1}_withfeats_fullsample.npy'.format(movie, feat)), combined_data)"
   ]
  },
  {
   "cell_type": "code",
   "execution_count": null,
   "id": "cdc14a0b-2678-46df-a00f-af51253b24b5",
   "metadata": {},
   "outputs": [],
   "source": [
    "for movie in ['DM','TP']:\n",
    "    subinfo = pd.read_csv(os.path.join(project_folder, 'dynamic_connectivity', \n",
    "                                       'DATA', 'raw_data', 'sampleinfo_movie{0}.csv'.format(movie)), index_col=0)\n",
    "    data = []\n",
    "    data_labels = pd.DataFrame()\n",
    "    i=0\n",
    "    for sub in subinfo.index.tolist():\n",
    "        for feat in features_of_interest:\n",
    "            data.append(np.expand_dims(np.load(os.path.join(beta_dir, '{0}_task-movie{1}_nFC_{2}_beta_withfeats.npy'.format(sub, movie, feat))), axis=1))\n",
    "            data_labels.loc[i,'sub'] = sub\n",
    "            data_labels.loc[i,'feature'] = feat\n",
    "            data_labels.loc[i, ['movie','age','site','female','meanFD',\n",
    "                                'righthanded','PPS_score']] = subinfo.loc[sub, ['movie','age','site','female','meanFD','righthanded','PPS_score']]\n",
    "            i = i+1\n",
    "\n",
    "    combined_data = np.concatenate(data, axis=1)\n",
    "    np.save(os.path.join(beta_dir, 'movie{0}_allfeatures_fullsample.npy'.format(movie)), combined_data)\n",
    "    data_labels.to_csv(os.path.join(beta_dir, 'movie{0}_allfeatures_withfeats_fullsample_labels.csv'.format(movie)))"
   ]
  },
  {
   "cell_type": "markdown",
   "id": "8b092512-c34c-4ab9-b463-1303c23d47f7",
   "metadata": {},
   "source": [
    "### plot mean connectivity for each video feature"
   ]
  },
  {
   "cell_type": "code",
   "execution_count": null,
   "id": "793852fb-8813-4747-b70e-ec852bd25fe2",
   "metadata": {
    "tags": []
   },
   "outputs": [],
   "source": [
    "for movie in ['DM','TP']:\n",
    "    subinfo = pd.read_csv(os.path.join(beta_dir, 'movie{0}_allfeatures_withfeats_fullsample_labels.csv'.format(movie)), index_col=0)\n",
    "    for feat in features_of_interest:\n",
    "        data = np.load(os.path.join(beta_dir, 'movie{0}_{1}_allfeatures_fullsample.npy'.format(movie, feat)))\n",
    "        data = np.mean(data, axis=1)\n",
    "        data_2d = tc.vec2mat(data)\n",
    "        plt.figure(figsize=(12,10))\n",
    "        sns.heatmap(data_2d, center=0)\n",
    "        plt.title('{0} - {1}'.format(movie, feat))\n",
    "        plt.tight_layout()\n",
    "        plt.savefig(os.path.join(beta_dir, 'movie{0}_{1}_meanDFC.png'.format(movie, feat)))\n",
    "        plt.close()"
   ]
  },
  {
   "cell_type": "markdown",
   "id": "6b6d1802-1213-4b84-9ff4-23ebcbf3d50a",
   "metadata": {
    "tags": []
   },
   "source": [
    "## Does age predict dynamic connectivity patterns?"
   ]
  },
  {
   "cell_type": "code",
   "execution_count": null,
   "id": "810e5078-aef1-41db-a114-3fd799001f3a",
   "metadata": {
    "tags": []
   },
   "outputs": [],
   "source": [
    "for movie in ['DM','TP']:\n",
    "    subinfo = pd.read_csv(os.path.join(beta_dir, 'movie{0}_allfeatures_withfeats_fullsample_labels.csv'.format(movie)), index_col=0)\n",
    "    \n",
    "    for feat in features_of_interest:\n",
    "        print(movie, feat)\n",
    "        out_folder = os.path.join(project_folder,  'dynamic_connectivity', 'ANALYSIS', 'age_analysis','movie{0}_{1}'.format(movie, feat))\n",
    "        os.makedirs(out_folder, exist_ok=True)\n",
    "        model = SVR(kernel='linear')\n",
    "        cv = 10\n",
    "    \n",
    "        # load data\n",
    "        X = np.load(os.path.join(beta_dir, 'movie{0}_{1}_allfeatures_fullsample.npy'.format(movie, feat)))[:, np.isfinite(subinfo['age'])].T\n",
    "        Y = subinfo.loc[np.isfinite(subinfo['age']), 'age'].to_numpy()\n",
    "        X_train = X[subinfo['site']=='rubic',:]\n",
    "        Y_train = Y[subinfo['site']=='rubic']\n",
    "        X_test = X[subinfo['site']=='cbic',:]\n",
    "        Y_test = Y[subinfo['site']=='cbic']\n",
    "        \n",
    "        # train model\n",
    "        estimators, weights, mean_weights, Y_pred_train, train_scores = cv_fit(model, X_train, Y_train, cv)\n",
    "\n",
    "        # test model\n",
    "        Y_pred_test, accuracy = predict_out(X_test, Y_test, estimators, 'regress')\n",
    "        accuracy.to_csv(os.path.join(out_folder,'test_accuracy.csv'))\n",
    "        #if not os.path.isfile(os.path.join(out_folder, 'bootstrapped_test_accuracy_randN.csv')):\n",
    "        #    boot_predict(estimators, X_test, Y_test, out_folder, samples=1000)\n",
    "        #if not os.path.isfile(os.path.join(out_folder, 'permutation_score_distribution.npy')):\n",
    "        #    results = permuted_p(model, X_train, Y_train, cv, out_folder, np.mean(train_scores), -accuracy.loc['MSE','stat'])\n",
    "        #if (accuracy.loc['SpearmanR','pval'] < 0.05) & (not os.path.isfile(os.path.join(out_folder, 'mean_importance.csv'))):\n",
    "        #    permuted_importance(estimators, X_train, Y_train, edge_labels, out_folder)\n",
    "\n",
    "        # plot results\n",
    "        plot_file_name = os.path.join(out_folder, 'testing_data_consistency.svg')\n",
    "        make_consistency_plot(Y_test, Y_pred_test, cv, plot_file_name)"
   ]
  },
  {
   "cell_type": "code",
   "execution_count": null,
   "id": "294584a6-747b-48c7-a247-bb419c758234",
   "metadata": {},
   "outputs": [],
   "source": [
    "for movie in ['DM','TP']:\n",
    "    subinfo = pd.read_csv(os.path.join(project_folder, 'dynamic_connectivity', \n",
    "                                       'DATA', 'raw_data', 'sampleinfo_movie{0}.csv'.format(movie)), index_col=0)\n",
    "    \n",
    "    for feat in features_of_interest:\n",
    "        print(movie, feat)\n",
    "        out_folder = os.path.join(project_folder,  'dynamic_connectivity', 'ANALYSIS', 'puberty_analysis','movie{0}_{1}'.format(movie, feat))\n",
    "        os.makedirs(out_folder, exist_ok=True)\n",
    "        model = SVR(kernel='linear')\n",
    "        cv = 10\n",
    "    \n",
    "        # load data\n",
    "        X = np.load(os.path.join(beta_dir, 'movie{0}_{1}_fullsample.npy'.format(movie, feat))).T\n",
    "        X_train = X[np.isfinite(subinfo['PPS_score']) & (subinfo['site']=='rubic'),:]\n",
    "        Y_train = subinfo.loc[np.isfinite(subinfo['PPS_score']) & (subinfo['site']=='rubic'), 'PPS_score']\n",
    "        X_test = X[np.isfinite(subinfo['PPS_score']) & (subinfo['site']=='cbic'),:]\n",
    "        Y_test = subinfo.loc[np.isfinite(subinfo['PPS_score']) & (subinfo['site']=='cbic'), 'PPS_score']\n",
    "        \n",
    "        # train model\n",
    "        estimators, weights, mean_weights, Y_pred_train, train_scores = cv_fit(model, X_train, Y_train, cv)\n",
    "\n",
    "        # test model\n",
    "        Y_pred_test, accuracy = predict_out(X_test, Y_test, estimators, 'regress')\n",
    "        accuracy.to_csv(os.path.join(out_folder,'test_accuracy.csv'))\n",
    "        #if not os.path.isfile(os.path.join(out_folder, 'bootstrapped_test_accuracy_randN.csv')):\n",
    "        #    boot_predict(estimators, X_test, Y_test, out_folder, samples=1000)\n",
    "        #if not os.path.isfile(os.path.join(out_folder, 'permutation_score_distribution.npy')):\n",
    "        #    results = permuted_p(model, X_train, Y_train, cv, out_folder, np.mean(train_scores), -accuracy.loc['MSE','stat'])\n",
    "        #if (accuracy.loc['SpearmanR','pval'] < 0.05) & (not os.path.isfile(os.path.join(out_folder, 'mean_importance.csv'))):\n",
    "        #    permuted_importance(estimators, X_train, Y_train, edge_labels, out_folder)\n",
    "\n",
    "        # plot results\n",
    "        plot_file_name = os.path.join(out_folder, 'testing_data_consistency.svg')\n",
    "        make_consistency_plot(Y_test, Y_pred_test, cv, plot_file_name)"
   ]
  },
  {
   "cell_type": "markdown",
   "id": "25896319-535e-4936-bb16-9a8d939a1fd2",
   "metadata": {},
   "source": [
    "## Are connectivity patterns across video features dissociable?"
   ]
  },
  {
   "cell_type": "code",
   "execution_count": null,
   "id": "68c2db29-a60d-43f7-87fd-395c9ff88b92",
   "metadata": {},
   "outputs": [],
   "source": [
    "for movie in ['TP','DM']:\n",
    "    subinfo = pd.read_csv(os.path.join(beta_dir, 'movie{0}_allfeatures_fullsample_labels.csv'.format(movie)), \n",
    "                          index_col=0)\n",
    "    out_folder = os.path.join(project_folder,  'dynamic_connectivity', 'ANALYSIS', 'classification_analysis',\n",
    "                              'movie{0}_allfeats'.format(movie))\n",
    "    os.makedirs(out_folder, exist_ok=True)\n",
    "\n",
    "    model = SVC()\n",
    "    cv = 10\n",
    "    # load data\n",
    "    X = np.load(os.path.join(beta_dir, 'movie{0}_allfeatures_fullsample.npy'.format(movie))).T\n",
    "    groups = subinfo.loc[(subinfo['site']=='rubic'), 'sub'].to_numpy()\n",
    "    X_train = X[subinfo['site']=='rubic',:]\n",
    "    Y_train = subinfo.loc[subinfo['site']=='rubic','feature']\n",
    "    X_test = X[subinfo['site']=='cbic',:]\n",
    "    Y_test = subinfo.loc[subinfo['site']=='cbic', 'feature']\n",
    "    \n",
    "    # train model\n",
    "    estimators, Y_pred_train, train_scores = cv_fit(model, X_train, Y_train, cv, groups=groups)\n",
    "\n",
    "    # test model\n",
    "    Y_pred_test, accuracy = predict_out(X_test, Y_test, estimators, 'classifier')\n",
    "    accuracy.to_csv(os.path.join(out_folder,'test_accuracy.csv'))\n",
    "    \n",
    "    # plot results\n",
    "    plot_file_name = os.path.join(out_folder, 'testing_data_confusion.svg')\n",
    "    make_confusion_matrix(Y_test, Y_pred_test, cv, plot_file_name)\n",
    "    "
   ]
  },
  {
   "cell_type": "code",
   "execution_count": null,
   "id": "29f2b5ca-1347-42c6-a643-2f9944aeba68",
   "metadata": {},
   "outputs": [],
   "source": [
    "for movie in ['DM','TP']:\n",
    "    subinfo = pd.read_csv(os.path.join(beta_dir, 'movie{0}_allfeatures_fullsample_labels.csv'.format(movie)), \n",
    "                          index_col=0)\n",
    "    out_folder = os.path.join(project_folder,  'dynamic_connectivity', 'ANALYSIS', 'classification_analysis',\n",
    "                              'movie{0}_emotions'.format(movie))\n",
    "    os.makedirs(out_folder, exist_ok=True)\n",
    "\n",
    "    model = SVC()\n",
    "    cv = 10\n",
    "    # load data\n",
    "    X = np.load(os.path.join(beta_dir, 'movie{0}_allfeatures_fullsample.npy'.format(movie))).T\n",
    "    groups = subinfo.loc[(subinfo['site']=='rubic'), 'sub'].to_numpy()\n",
    "    feat_mask = (subinfo['feature']=='Anger') | (subinfo['feature']=='Sad') | (subinfo['feature']=='Happy') | (subinfo['feature']=='Excited') | (subinfo['feature']=='Fear')\n",
    "    X_train = X[subinfo['site']=='rubic',:]\n",
    "    Y_train = subinfo.loc[(subinfo['site']=='rubic'),'feature']\n",
    "    X_test = X[subinfo['site']=='cbic',:]\n",
    "    Y_test = subinfo.loc[(subinfo['site']=='cbic'), 'feature']\n",
    "    \n",
    "    # train model\n",
    "    estimators, Y_pred_train, train_scores = cv_fit(model, X_train, Y_train, cv, groups=groups)\n",
    "\n",
    "    # test model\n",
    "    Y_pred_test, accuracy = predict_out(X_test, Y_test, estimators, 'classifier')\n",
    "    accuracy.to_csv(os.path.join(out_folder,'test_accuracy.csv'))\n",
    "    \n",
    "    # plot results\n",
    "    plot_file_name = os.path.join(out_folder, 'testing_data_confusion.svg')\n",
    "    make_confusion_matrix(Y_test, Y_pred_test, cv, plot_file_name)"
   ]
  },
  {
   "cell_type": "code",
   "execution_count": null,
   "id": "13a4f7f4-4c0d-41f2-8654-a97b5a151d51",
   "metadata": {},
   "outputs": [],
   "source": []
  }
 ],
 "metadata": {
  "kernelspec": {
   "display_name": "Python 3 (ipykernel)",
   "language": "python",
   "name": "python3"
  },
  "language_info": {
   "codemirror_mode": {
    "name": "ipython",
    "version": 3
   },
   "file_extension": ".py",
   "mimetype": "text/x-python",
   "name": "python",
   "nbconvert_exporter": "python",
   "pygments_lexer": "ipython3",
   "version": "3.8.9"
  }
 },
 "nbformat": 4,
 "nbformat_minor": 5
}
